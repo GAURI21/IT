{
  "nbformat": 4,
  "nbformat_minor": 0,
  "metadata": {
    "colab": {
      "name": "Prac1a.ipynb",
      "provenance": [],
      "authorship_tag": "ABX9TyPrADcYlrNjTERhB09/5++h",
      "include_colab_link": true
    },
    "kernelspec": {
      "name": "python3",
      "display_name": "Python 3"
    }
  },
  "cells": [
    {
      "cell_type": "markdown",
      "metadata": {
        "id": "view-in-github",
        "colab_type": "text"
      },
      "source": [
        "<a href=\"https://colab.research.google.com/github/GAURI21/IT/blob/master/Prac1a.ipynb\" target=\"_parent\"><img src=\"https://colab.research.google.com/assets/colab-badge.svg\" alt=\"Open In Colab\"/></a>"
      ]
    },
    {
      "cell_type": "code",
      "metadata": {
        "id": "JM1KFxHumUs3",
        "colab_type": "code",
        "colab": {
          "base_uri": "https://localhost:8080/",
          "height": 106
        },
        "outputId": "195f51b6-b65d-4ead-b157-ceb3e568c91c"
      },
      "source": [
        " \n",
        "# prac1a\n",
        "arr1=[12,22,24,18,1,5,29]\n",
        "arr2=['best','hopes']\n",
        "arr1.index(22)\n",
        "print(arr1)\n",
        "arr1.sort()\n",
        "print(arr1)\n",
        "arr1.extend(arr2)\n",
        "print(arr1)\n",
        "arr1.reverse()\n",
        "print(arr1)"
      ],
      "execution_count": null,
      "outputs": [
        {
          "output_type": "stream",
          "text": [
            "[12, 22, 24, 18, 1, 5, 29]\n",
            "[1, 5, 12, 18, 22, 24, 29]\n",
            "[1, 5, 12, 18, 22, 24, 29, 'best', 'hopes']\n",
            "['hopes', 'best', 29, 24, 22, 18, 12, 5, 1]\n"
          ],
          "name": "stdout"
        }
      ]
    }
  ]
}