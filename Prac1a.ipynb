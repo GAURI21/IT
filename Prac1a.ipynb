{
  "nbformat": 4,
  "nbformat_minor": 0,
  "metadata": {
    "colab": {
      "name": "Prac1a.ipynb",
      "provenance": [],
      "authorship_tag": "ABX9TyPHDPkgPj17P324XVVqu9HE",
      "include_colab_link": true
    },
    "kernelspec": {
      "name": "python3",
      "display_name": "Python 3"
    }
  },
  "cells": [
    {
      "cell_type": "markdown",
      "metadata": {
        "id": "view-in-github",
        "colab_type": "text"
      },
      "source": [
        "<a href=\"https://colab.research.google.com/github/GAURI21/IT/blob/master/Prac1a.ipynb\" target=\"_parent\"><img src=\"https://colab.research.google.com/assets/colab-badge.svg\" alt=\"Open In Colab\"/></a>"
      ]
    },
    {
      "cell_type": "code",
      "metadata": {
        "id": "7q8I1vppZljs",
        "colab_type": "code",
        "colab": {
          "base_uri": "https://localhost:8080/",
          "height": 220
        },
        "outputId": "0ee810eb-b49b-4ecb-c326-d15070ba29c0"
      },
      "source": [
        "list_students_rolls=[19,27,62,24,21,2,51]\n",
        "for i in range (len(list_students_rolls)):\n",
        " min_val_index = i\n",
        " for j in range(i+1,len(list_students_rolls)):\n",
        "if list_students_rolls[min_val_index]>list_students_rolls[j]:\n",
        "min_val_index=jlist_students_rolls[i],list_students_rolls[min_val_index]=list_students_rolls[min_val_index],list_students_rolls[i]:"
      ],
      "execution_count": null,
      "outputs": [
        {
          "output_type": "error",
          "ename": "IndentationError",
          "evalue": "ignored",
          "traceback": [
            "\u001b[0;36m  File \u001b[0;32m\"<ipython-input-9-79f56716aadc>\"\u001b[0;36m, line \u001b[0;32m5\u001b[0m\n\u001b[0;31m    if list_students_rolls[min_val_index]>list_students_rolls[j]:\u001b[0m\n\u001b[0m                                                                 ^\u001b[0m\n\u001b[0;31mIndentationError\u001b[0m\u001b[0;31m:\u001b[0m expected an indented block\n"
          ]
        }
      ]
    },
    {
      "cell_type": "code",
      "metadata": {
        "id": "JM1KFxHumUs3",
        "colab_type": "code",
        "colab": {
          "base_uri": "https://localhost:8080/",
          "height": 106
        },
        "outputId": "195f51b6-b65d-4ead-b157-ceb3e568c91c"
      },
      "source": [
        " \n",
        "# prac1a\n",
        "arr1=[12,22,24,18,1,5,29]\n",
        "arr2=['best','hopes']\n",
        "arr1.index(22)\n",
        "print(arr1)\n",
        "arr1.sort()\n",
        "print(arr1)\n",
        "arr1.extend(arr2)\n",
        "print(arr1)\n",
        "arr1.reverse()\n",
        "print(arr1)"
      ],
      "execution_count": 5,
      "outputs": [
        {
          "output_type": "stream",
          "text": [
            "[12, 22, 24, 18, 1, 5, 29]\n",
            "[1, 5, 12, 18, 22, 24, 29]\n",
            "[1, 5, 12, 18, 22, 24, 29, 'best', 'hopes']\n",
            "['hopes', 'best', 29, 24, 22, 18, 12, 5, 1]\n"
          ],
          "name": "stdout"
        }
      ]
    },
    {
      "cell_type": "code",
      "metadata": {
        "id": "q7Vd6qOTElv-",
        "colab_type": "code",
        "colab": {}
      },
      "source": [
        ""
      ],
      "execution_count": null,
      "outputs": []
    },
    {
      "cell_type": "code",
      "metadata": {
        "id": "nFLXkB3ZEmGw",
        "colab_type": "code",
        "colab": {}
      },
      "source": [
        " \n",
        "class Linkedlist:\n",
        "     class _Node:\n",
        "        def _init_(self, element, next=None ):\n",
        "            self.element= element\n",
        "            self.next= next\n",
        " \n",
        "        def _init_(self):\n",
        "          self.head = None\n",
        "          self.size = 0\n",
        "        def _len_(self):\n",
        "          return Self.size\n",
        "        def _15_empty( self):\n",
        "          return self.size ==0\n",
        "        def display(self):\n",
        "          return \"Displaying list\"\n",
        "        \n",
        "        def add_head(self,e) :\n",
        "           temp=self.head\n",
        "           self.head =Node (e)\n",
        "           e.next = temp\n",
        "           self.s12e += 1"
      ],
      "execution_count": null,
      "outputs": []
    },
    {
      "cell_type": "code",
      "metadata": {
        "id": "EFG8dNAWk05s",
        "colab_type": "code",
        "colab": {
          "base_uri": "https://localhost:8080/",
          "height": 166
        },
        "outputId": "d87bb8a2-ca55-4236-abec-b75080e88d0a"
      },
      "source": [
        ""
      ],
      "execution_count": null,
      "outputs": [
        {
          "output_type": "error",
          "ename": "IndentationError",
          "evalue": "ignored",
          "traceback": [
            "\u001b[0;36m  File \u001b[0;32m\"<ipython-input-10-1635cb95923e>\"\u001b[0;36m, line \u001b[0;32m3\u001b[0m\n\u001b[0;31m    value=list_students_rolls(i)\u001b[0m\n\u001b[0m        ^\u001b[0m\n\u001b[0;31mIndentationError\u001b[0m\u001b[0;31m:\u001b[0m expected an indented block\n"
          ]
        }
      ]
    }
  ]
}