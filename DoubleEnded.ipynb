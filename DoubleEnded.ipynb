{
  "nbformat": 4,
  "nbformat_minor": 0,
  "metadata": {
    "colab": {
      "name": "DoubleEnded",
      "provenance": [],
      "authorship_tag": "ABX9TyOI465Rn2D/QoDU+uh+7lkd",
      "include_colab_link": true
    },
    "kernelspec": {
      "name": "python3",
      "display_name": "Python 3"
    }
  },
  "cells": [
    {
      "cell_type": "markdown",
      "metadata": {
        "id": "view-in-github",
        "colab_type": "text"
      },
      "source": [
        "<a href=\"https://colab.research.google.com/github/GAURI21/IT/blob/master/DoubleEnded.ipynb\" target=\"_parent\"><img src=\"https://colab.research.google.com/assets/colab-badge.svg\" alt=\"Open In Colab\"/></a>"
      ]
    },
    {
      "cell_type": "code",
      "metadata": {
        "id": "5ZR1pLGmaftw",
        "colab_type": "code",
        "colab": {
          "base_uri": "https://localhost:8080/",
          "height": 227
        },
        "outputId": "c8e1adff-2606-4b02-c940-6f6b1dab9074"
      },
      "source": [
        " \n",
        "import collections\n",
        "#create a deque\n",
        "DoubleEnded = collections.deque([\"Gauri\",\"Amisha\",\"Pranjal\"])\n",
        "print (DoubleEnded)\n",
        " \n",
        "#Append to the right\n",
        "print(\"Adding to the right:\")\n",
        "DoubleEnded.append(\"Ritu\")\n",
        "print(DoubleEnded)\n",
        " \n",
        "#Append on left side\n",
        "print(\"Adding to left:\")\n",
        "DoubleEnded.append(\"Anjali\")\n",
        "print(DoubleEnded)\n",
        " \n",
        "#Remove from right\n",
        "print(\"Remove from right:\")\n",
        "DoubleEnded.pop()\n",
        "print(DoubleEnded)\n",
        " \n",
        "#Remove from left\n",
        "print(\"Remove from left:\")\n",
        "DoubleEnded.popleft()\n",
        "print(DoubleEnded)\n",
        " \n",
        "#Reverse\n",
        "print(\"Reversing deque:\")\n",
        "DoubleEnded.reverse()\n",
        "print(DoubleEnded)"
      ],
      "execution_count": 2,
      "outputs": [
        {
          "output_type": "stream",
          "text": [
            "deque(['Gauri', 'Amisha', 'Pranjal'])\n",
            "Adding to the right:\n",
            "deque(['Gauri', 'Amisha', 'Pranjal', 'Ritu'])\n",
            "Adding to left:\n",
            "deque(['Gauri', 'Amisha', 'Pranjal', 'Ritu', 'Anjali'])\n",
            "Remove from right:\n",
            "deque(['Gauri', 'Amisha', 'Pranjal', 'Ritu'])\n",
            "Remove from left:\n",
            "deque(['Amisha', 'Pranjal', 'Ritu'])\n",
            "Reversing deque:\n",
            "deque(['Ritu', 'Pranjal', 'Amisha'])\n"
          ],
          "name": "stdout"
        }
      ]
    }
  ]
}